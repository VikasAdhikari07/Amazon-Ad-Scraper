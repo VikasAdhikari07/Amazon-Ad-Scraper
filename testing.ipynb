{
 "cells": [
  {
   "cell_type": "code",
   "execution_count": 2,
   "metadata": {},
   "outputs": [],
   "source": [
    "import requests"
   ]
  },
  {
   "cell_type": "code",
   "execution_count": 28,
   "metadata": {},
   "outputs": [],
   "source": [
    "url = \"https://www.amazon.in/\"\n",
    "headers = {\n",
    " \"User-Agent\": \"Mozilla/5.0 (Windows NT 10.0; Win64; x64) AppleWebKit/537.36 (KHTML, like Gecko) Chrome/131.0.0.0 Safari/537.36 Edg/131.0.0.0\",\n",
    "}\n",
    "\n",
    "# Send the request\n",
    "response = requests.get(url, headers=headers)\n",
    "data = requests.get(url=url)"
   ]
  },
  {
   "cell_type": "code",
   "execution_count": 29,
   "metadata": {},
   "outputs": [
    {
     "data": {
      "text/plain": [
       "200"
      ]
     },
     "execution_count": 29,
     "metadata": {},
     "output_type": "execute_result"
    }
   ],
   "source": [
    "response.status_code"
   ]
  },
  {
   "cell_type": "code",
   "execution_count": 141,
   "metadata": {},
   "outputs": [],
   "source": [
    "from selenium import webdriver\n",
    "from selenium.webdriver.common.by import By\n",
    "from selenium.webdriver.common.keys import Keys\n",
    "import datetime\n",
    "\n",
    "from bs4 import BeautifulSoup\n",
    "\n",
    "google_url = \"https://www.google.com\"\n",
    "\n",
    "driver = webdriver.Chrome()\n",
    "driver.get(google_url)\n"
   ]
  },
  {
   "cell_type": "code",
   "execution_count": null,
   "metadata": {},
   "outputs": [],
   "source": [
    "# //*[@id=\"rso\"]/div[1]/div/div/div/div/div/div/div/div[1]/div/span/a/h3\n",
    "# //*[@id=\"rso\"]/div[1]/div/div/div/div/div/div/div/div[1]/div/span/a/h3"
   ]
  },
  {
   "cell_type": "code",
   "execution_count": 144,
   "metadata": {},
   "outputs": [],
   "source": [
    "google_serarch = driver.find_element(By.NAME, \"q\")\n",
    "google_serarch.send_keys(\"amazon.in\")\n",
    "google_serarch.send_keys(Keys.RETURN)\n",
    "\n",
    "first_result = driver.find_element(By.XPATH, \"(//h3)[1]\")  # XPath to select the first result's title\n",
    "first_result.click()"
   ]
  },
  {
   "cell_type": "code",
   "execution_count": 145,
   "metadata": {},
   "outputs": [],
   "source": [
    "search_bar = driver.find_element(By.ID, \"twotabsearchtextbox\")\n",
    "search_key = \"laptop\"\n",
    "search_bar.clear()\n",
    "search_bar.send_keys(search_key)\n",
    "search_bar.send_keys(Keys.RETURN)"
   ]
  },
  {
   "cell_type": "code",
   "execution_count": 146,
   "metadata": {},
   "outputs": [],
   "source": [
    "response = driver.page_source"
   ]
  },
  {
   "cell_type": "code",
   "execution_count": 147,
   "metadata": {},
   "outputs": [],
   "source": [
    "soup = BeautifulSoup(response, 'html.parser')"
   ]
  },
  {
   "cell_type": "code",
   "execution_count": null,
   "metadata": {},
   "outputs": [],
   "source": [
    "# to get all adholder at once\n",
    "\n",
    "for i in soup.find_all('div',class_=\"AdHolder\"):\n",
    "    print(i)"
   ]
  },
  {
   "cell_type": "code",
   "execution_count": null,
   "metadata": {},
   "outputs": [],
   "source": [
    "soup.find_all('div', class_='AdHolder')"
   ]
  },
  {
   "cell_type": "code",
   "execution_count": 127,
   "metadata": {},
   "outputs": [
    {
     "data": {
      "text/plain": [
       "'2025-01-11 00:45:21.920865'"
      ]
     },
     "execution_count": 127,
     "metadata": {},
     "output_type": "execute_result"
    }
   ],
   "source": [
    "time = str(datetime.datetime.now())\n",
    "time"
   ]
  },
  {
   "cell_type": "code",
   "execution_count": 149,
   "metadata": {},
   "outputs": [],
   "source": [
    "result = []\n",
    "time = str(datetime.datetime.now())\n",
    "result.append(time)\n",
    "result.append(search_key)"
   ]
  },
  {
   "cell_type": "code",
   "execution_count": 150,
   "metadata": {},
   "outputs": [
    {
     "data": {
      "text/plain": [
       "'\\n\\n\\n\\nApple MacBook Air Laptop: Apple M1 chip, 13.3-inch/33.74 cm Retina Display, 8GB RAM, 256GB SSD Storage, Backlit Keyboard, FaceTime HD Camera, Touch ID. Works with iPhone/iPad; Space Grey4.64,916Sponsored\\n\\n\\n\\n\\n'"
      ]
     },
     "execution_count": 150,
     "metadata": {},
     "output_type": "execute_result"
    }
   ],
   "source": [
    "# first add sb banner\n",
    "\n",
    "sb_banner = soup.find('div', class_=\"s-result-item s-widget s-widget-spacing-large AdHolder s-flex-full-width\").text\n",
    "result.append(sb_banner)\n",
    "sb_banner"
   ]
  },
  {
   "cell_type": "code",
   "execution_count": 151,
   "metadata": {},
   "outputs": [
    {
     "data": {
      "text/plain": [
       "'Apple MacBook Air Laptop: Apple M1 chip, 13.3-inch/33.74 cm Retina Display, 8GB RAM, 256GB SSD Storage, Backlit Keyboard, FaceTime HD Camera, Touch ID. Works with iPhone/iPad; Space Grey'"
      ]
     },
     "execution_count": 151,
     "metadata": {},
     "output_type": "execute_result"
    }
   ],
   "source": [
    "# name of video ad \n",
    "\n",
    "sbv = soup.find('div',class_=\"sg-col-0-of-12 sg-col-4-of-16 sbv-product-container sg-col sg-col-12-of-24 sg-col-8-of-20\").find('h2').text\n",
    "result.append(sbv)\n",
    "sbv"
   ]
  },
  {
   "cell_type": "code",
   "execution_count": 152,
   "metadata": {},
   "outputs": [],
   "source": [
    "# Video ad ASIN\n",
    "sbv_asin = soup.find('div',class_=\"sg-col-0-of-12 sg-col-4-of-16 sbv-product-container sg-col sg-col-12-of-24 sg-col-8-of-20\").find('div',{\"data-cy\":\"asin-faceout-container\"}).get(\"data-dib-asin\")\n",
    "result.append(sbv_asin)"
   ]
  },
  {
   "cell_type": "code",
   "execution_count": 154,
   "metadata": {},
   "outputs": [
    {
     "data": {
      "text/plain": [
       "'₹69,990'"
      ]
     },
     "execution_count": 154,
     "metadata": {},
     "output_type": "execute_result"
    }
   ],
   "source": [
    "# price of video ad\n",
    "sbv_price = \"₹\"+ soup.find('div',class_=\"sg-col-0-of-12 sg-col-4-of-16 sbv-product-container sg-col sg-col-12-of-24 sg-col-8-of-20\").find('span',class_=\"a-price\").text.split(\"₹\")[1]\n",
    "result.append(sbv_price)\n",
    "sbv_price"
   ]
  },
  {
   "cell_type": "code",
   "execution_count": 155,
   "metadata": {},
   "outputs": [],
   "source": [
    "# when 4 ads are in line\n",
    "ads = soup.find_all('div',class_=\"sg-col-4-of-24 sg-col-4-of-12 s-result-item s-asin sg-col-4-of-16 AdHolder sg-col s-widget-spacing-small sg-col-4-of-20\")\n",
    "if len(ads)==0:\n",
    "    # when adds are in landscape\n",
    "    ads = soup.find_all('div',class_=\"sg-col-20-of-24 s-result-item s-asin sg-col-0-of-12 sg-col-16-of-20 AdHolder sg-col s-widget-spacing-small sg-col-12-of-16\")"
   ]
  },
  {
   "cell_type": "code",
   "execution_count": 156,
   "metadata": {},
   "outputs": [],
   "source": [
    "# sp ad 1 to 4\n",
    "sp_ad = []\n",
    "for i in range(len(ads)):\n",
    "    if i==4:\n",
    "        break\n",
    "    ad = ads[i].h2.text\n",
    "    ad_price =\"₹\" +ads[i].find('span',class_=\"a-price\").text.split(\"₹\")[1]\n",
    "    ad_asin = ads[i].find('div',{\"data-cy\":\"asin-faceout-container\"}).get(\"data-dib-asin\")\n",
    "    result.append(ad)\n",
    "    result.append(ad_asin)\n",
    "    result.append(ad_price)\n"
   ]
  },
  {
   "cell_type": "code",
   "execution_count": 157,
   "metadata": {},
   "outputs": [
    {
     "name": "stdout",
     "output_type": "stream",
     "text": [
      "B0CRQB4HBP\n",
      "B0BQJ68HHC\n",
      "B0DPXBBPB7\n",
      "B0D83DC9VP\n",
      "B0D299Z94B\n",
      "B0DG5CY2Y2\n"
     ]
    }
   ],
   "source": [
    "for i in range(len(ads)):\n",
    "    print(ads[i].find('div',{\"data-cy\":\"asin-faceout-container\"}).get(\"data-dib-asin\"))"
   ]
  },
  {
   "cell_type": "code",
   "execution_count": 101,
   "metadata": {},
   "outputs": [
    {
     "name": "stdout",
     "output_type": "stream",
     "text": [
      "ASIN Value: B0B4K49RT7\n"
     ]
    }
   ],
   "source": [
    "ads[0].find"
   ]
  },
  {
   "cell_type": "code",
   "execution_count": 135,
   "metadata": {},
   "outputs": [
    {
     "data": {
      "text/plain": [
       "18"
      ]
     },
     "execution_count": 135,
     "metadata": {},
     "output_type": "execute_result"
    }
   ],
   "source": [
    "len(result)"
   ]
  },
  {
   "cell_type": "code",
   "execution_count": 158,
   "metadata": {},
   "outputs": [],
   "source": [
    "import pandas as pd\n",
    "\n",
    "data = pd.DataFrame(columns=[\"Time\",\"Search Key\",\"SB Banner/Video AD\", \"SBV Video AD\",\"SBV ASIN\", \"SBV Video AD Price\", \"SP AD 1\",\"SP AD 1 ASIN\", \"SP AD 1 Price\", \"SP AD 2\",\"SP AD 2 ASIN\", \"SP AD 2 Price\", \"SP AD 3\",\"SP AD 3 ASIN\", \"SP AD 3 Price\",\"SP AD 4\",\"SP AD 4 ASIN\", \"SP AD 4 Price\"])"
   ]
  },
  {
   "cell_type": "code",
   "execution_count": 137,
   "metadata": {},
   "outputs": [
    {
     "data": {
      "text/plain": [
       "0"
      ]
     },
     "execution_count": 137,
     "metadata": {},
     "output_type": "execute_result"
    }
   ],
   "source": [
    "len(data)"
   ]
  },
  {
   "cell_type": "code",
   "execution_count": 126,
   "metadata": {},
   "outputs": [],
   "source": [
    "data[\"Time\"]=data[\"Time\"].astype(str)"
   ]
  },
  {
   "cell_type": "code",
   "execution_count": 169,
   "metadata": {},
   "outputs": [],
   "source": [
    "import gspread\n",
    "\n",
    "gc = gspread.service_account(filename=\"cred_file.json\")"
   ]
  },
  {
   "cell_type": "code",
   "execution_count": 163,
   "metadata": {},
   "outputs": [],
   "source": [
    "sheet = gc.open_by_url(\"https://docs.google.com/spreadsheets/d/1wKzdScL4OsW58cm9g2hBNpocfp6yXXVCV9WRyf1sOIc/edit?gid=0#gid=0\")"
   ]
  },
  {
   "cell_type": "code",
   "execution_count": 164,
   "metadata": {},
   "outputs": [],
   "source": [
    "worksheet = sheet.get_worksheet(index=0)"
   ]
  },
  {
   "cell_type": "code",
   "execution_count": null,
   "metadata": {},
   "outputs": [],
   "source": [
    "import pandas as pd\n",
    "data = pd.DataFrame(worksheet.get_all_records())"
   ]
  },
  {
   "cell_type": "code",
   "execution_count": 166,
   "metadata": {},
   "outputs": [
    {
     "data": {
      "text/html": [
       "<div>\n",
       "<style scoped>\n",
       "    .dataframe tbody tr th:only-of-type {\n",
       "        vertical-align: middle;\n",
       "    }\n",
       "\n",
       "    .dataframe tbody tr th {\n",
       "        vertical-align: top;\n",
       "    }\n",
       "\n",
       "    .dataframe thead th {\n",
       "        text-align: right;\n",
       "    }\n",
       "</style>\n",
       "<table border=\"1\" class=\"dataframe\">\n",
       "  <thead>\n",
       "    <tr style=\"text-align: right;\">\n",
       "      <th></th>\n",
       "      <th>Time</th>\n",
       "      <th>Search Key</th>\n",
       "      <th>SB Banner/Video AD</th>\n",
       "      <th>SBV Video AD</th>\n",
       "      <th>SBV ASIN</th>\n",
       "      <th>SBV Video AD Price</th>\n",
       "      <th>SP AD 1</th>\n",
       "      <th>SP AD 1 ASIN</th>\n",
       "      <th>SP AD 1 Price</th>\n",
       "      <th>SP AD 2</th>\n",
       "      <th>SP AD 2 ASIN</th>\n",
       "      <th>SP AD 2 Price</th>\n",
       "      <th>SP AD 3</th>\n",
       "      <th>SP AD 3 ASIN</th>\n",
       "      <th>SP AD 3 Price</th>\n",
       "      <th>SP AD 4</th>\n",
       "      <th>SP AD 4 ASIN</th>\n",
       "      <th>SP AD 4 Price</th>\n",
       "    </tr>\n",
       "  </thead>\n",
       "  <tbody>\n",
       "    <tr>\n",
       "      <th>0</th>\n",
       "      <td>2025-01-11 00:53:43.108142</td>\n",
       "      <td>laptop</td>\n",
       "      <td>\\n\\n\\n\\nApple MacBook Air Laptop: Apple M1 chi...</td>\n",
       "      <td>Apple MacBook Air Laptop: Apple M1 chip, 13.3-...</td>\n",
       "      <td>B08N5W4NNB</td>\n",
       "      <td>₹69,990</td>\n",
       "      <td>HONOR MagicBook X16 (2024), 12th Gen Intel Cor...</td>\n",
       "      <td>B0CRQB4HBP</td>\n",
       "      <td>₹46,490</td>\n",
       "      <td>Dell [Smartchoice] Core i3-1215U, 12th Gen (8G...</td>\n",
       "      <td>B0BQJ68HHC</td>\n",
       "      <td>₹35,990</td>\n",
       "      <td>Acer Aspire Lite 13th Gen Intel Core i5-1334U ...</td>\n",
       "      <td>B0DPXBBPB7</td>\n",
       "      <td>₹54,990</td>\n",
       "      <td>Dell 15 Thin &amp; Light Laptop, Intel Core i7-125...</td>\n",
       "      <td>B0D83DC9VP</td>\n",
       "      <td>₹64,990</td>\n",
       "    </tr>\n",
       "  </tbody>\n",
       "</table>\n",
       "</div>"
      ],
      "text/plain": [
       "                         Time Search Key  \\\n",
       "0  2025-01-11 00:53:43.108142     laptop   \n",
       "\n",
       "                                  SB Banner/Video AD  \\\n",
       "0  \\n\\n\\n\\nApple MacBook Air Laptop: Apple M1 chi...   \n",
       "\n",
       "                                        SBV Video AD    SBV ASIN  \\\n",
       "0  Apple MacBook Air Laptop: Apple M1 chip, 13.3-...  B08N5W4NNB   \n",
       "\n",
       "  SBV Video AD Price                                            SP AD 1  \\\n",
       "0            ₹69,990  HONOR MagicBook X16 (2024), 12th Gen Intel Cor...   \n",
       "\n",
       "  SP AD 1 ASIN SP AD 1 Price  \\\n",
       "0   B0CRQB4HBP       ₹46,490   \n",
       "\n",
       "                                             SP AD 2 SP AD 2 ASIN  \\\n",
       "0  Dell [Smartchoice] Core i3-1215U, 12th Gen (8G...   B0BQJ68HHC   \n",
       "\n",
       "  SP AD 2 Price                                            SP AD 3  \\\n",
       "0       ₹35,990  Acer Aspire Lite 13th Gen Intel Core i5-1334U ...   \n",
       "\n",
       "  SP AD 3 ASIN SP AD 3 Price  \\\n",
       "0   B0DPXBBPB7       ₹54,990   \n",
       "\n",
       "                                             SP AD 4 SP AD 4 ASIN  \\\n",
       "0  Dell 15 Thin & Light Laptop, Intel Core i7-125...   B0D83DC9VP   \n",
       "\n",
       "  SP AD 4 Price  \n",
       "0       ₹64,990  "
      ]
     },
     "execution_count": 166,
     "metadata": {},
     "output_type": "execute_result"
    }
   ],
   "source": [
    "data"
   ]
  },
  {
   "cell_type": "code",
   "execution_count": 23,
   "metadata": {},
   "outputs": [
    {
     "data": {
      "text/plain": [
       "['2025-01-10 19:49:21.566886',\n",
       " 'facewash',\n",
       " '\\n\\n\\n\\nScientific Solution For Acne-Free SkinScientific Solution For Acne-Free SkinShop Glenmark Consumer Care\\xa0Shop now\\xa0 Limited time deal₹361.00₹361.00\\xa0(₹361.00₹361.00 / 100 g)M.R.P:\\xa0₹425.00₹425.00\\xa0(15% off) Limited time deal₹487.00₹487.00\\xa0(₹811.67₹811.67 / 100 ml)M.R.P:\\xa0₹573.00₹573.00\\xa0(15% off)₹216.00₹216.00\\xa0(₹288.00₹288.00 / 100 g)Sponsored\\n\\n\\n\\n\\n\\n',\n",
       " 'Nat Habit Masoor Dal Face Wash, Fresh Daily Tikta For Men & Women, Skin Brightening, With Masoor & Moth Dal, Suitable For All Skin Types, Chemical & Sulphate Free - 100g',\n",
       " '₹263',\n",
       " 'Neutrogena Ultra Gentle Creamy Cleanser | 14X Gentler Cleanser | All Skin Types Including Sensitive Skin | Face Wash for Sensitive Skin for Men & Women | With Barriercare Technology & 10% Glycerin | Paraben-Free',\n",
       " '₹570',\n",
       " 'Neutrogena Ultra Gentle Foaming Cleanser | Face Wash for All Skin Types including Sensitive Skin | 6X Gentler Cleansing with Barriercare Technology for Men & Women | Cleanses Dirt and Oil | Hydrates & Protects Skin Barrie',\n",
       " '₹570',\n",
       " 'DOT & KEY Vitamin C + E Super Bright Gel Face Wash For Glowing And Brightening Skin | All Skin Types|With Triple Vitamin C| Face Wash For Women & Men|100 Ml',\n",
       " '₹224',\n",
       " 'CeraVe Hydrating Cleanser For Normal To Dry Skin (88ml) - Non-Foaming Face Wash with Hyaluronic Acid And Ceramides | Non-Comedogenic, Non-Irritating And Fragrance-Free Cleanser',\n",
       " '₹315']"
      ]
     },
     "execution_count": 23,
     "metadata": {},
     "output_type": "execute_result"
    }
   ],
   "source": [
    "result"
   ]
  },
  {
   "cell_type": "code",
   "execution_count": 159,
   "metadata": {},
   "outputs": [],
   "source": [
    "data.loc[len(data)] = result"
   ]
  },
  {
   "cell_type": "code",
   "execution_count": 167,
   "metadata": {},
   "outputs": [
    {
     "data": {
      "text/html": [
       "<div>\n",
       "<style scoped>\n",
       "    .dataframe tbody tr th:only-of-type {\n",
       "        vertical-align: middle;\n",
       "    }\n",
       "\n",
       "    .dataframe tbody tr th {\n",
       "        vertical-align: top;\n",
       "    }\n",
       "\n",
       "    .dataframe thead th {\n",
       "        text-align: right;\n",
       "    }\n",
       "</style>\n",
       "<table border=\"1\" class=\"dataframe\">\n",
       "  <thead>\n",
       "    <tr style=\"text-align: right;\">\n",
       "      <th></th>\n",
       "      <th>Time</th>\n",
       "      <th>Search Key</th>\n",
       "      <th>SB Banner/Video AD</th>\n",
       "      <th>SBV Video AD</th>\n",
       "      <th>SBV ASIN</th>\n",
       "      <th>SBV Video AD Price</th>\n",
       "      <th>SP AD 1</th>\n",
       "      <th>SP AD 1 ASIN</th>\n",
       "      <th>SP AD 1 Price</th>\n",
       "      <th>SP AD 2</th>\n",
       "      <th>SP AD 2 ASIN</th>\n",
       "      <th>SP AD 2 Price</th>\n",
       "      <th>SP AD 3</th>\n",
       "      <th>SP AD 3 ASIN</th>\n",
       "      <th>SP AD 3 Price</th>\n",
       "      <th>SP AD 4</th>\n",
       "      <th>SP AD 4 ASIN</th>\n",
       "      <th>SP AD 4 Price</th>\n",
       "    </tr>\n",
       "  </thead>\n",
       "  <tbody>\n",
       "    <tr>\n",
       "      <th>0</th>\n",
       "      <td>2025-01-11 00:53:43.108142</td>\n",
       "      <td>laptop</td>\n",
       "      <td>\\n\\n\\n\\nApple MacBook Air Laptop: Apple M1 chi...</td>\n",
       "      <td>Apple MacBook Air Laptop: Apple M1 chip, 13.3-...</td>\n",
       "      <td>B08N5W4NNB</td>\n",
       "      <td>₹69,990</td>\n",
       "      <td>HONOR MagicBook X16 (2024), 12th Gen Intel Cor...</td>\n",
       "      <td>B0CRQB4HBP</td>\n",
       "      <td>₹46,490</td>\n",
       "      <td>Dell [Smartchoice] Core i3-1215U, 12th Gen (8G...</td>\n",
       "      <td>B0BQJ68HHC</td>\n",
       "      <td>₹35,990</td>\n",
       "      <td>Acer Aspire Lite 13th Gen Intel Core i5-1334U ...</td>\n",
       "      <td>B0DPXBBPB7</td>\n",
       "      <td>₹54,990</td>\n",
       "      <td>Dell 15 Thin &amp; Light Laptop, Intel Core i7-125...</td>\n",
       "      <td>B0D83DC9VP</td>\n",
       "      <td>₹64,990</td>\n",
       "    </tr>\n",
       "  </tbody>\n",
       "</table>\n",
       "</div>"
      ],
      "text/plain": [
       "                         Time Search Key  \\\n",
       "0  2025-01-11 00:53:43.108142     laptop   \n",
       "\n",
       "                                  SB Banner/Video AD  \\\n",
       "0  \\n\\n\\n\\nApple MacBook Air Laptop: Apple M1 chi...   \n",
       "\n",
       "                                        SBV Video AD    SBV ASIN  \\\n",
       "0  Apple MacBook Air Laptop: Apple M1 chip, 13.3-...  B08N5W4NNB   \n",
       "\n",
       "  SBV Video AD Price                                            SP AD 1  \\\n",
       "0            ₹69,990  HONOR MagicBook X16 (2024), 12th Gen Intel Cor...   \n",
       "\n",
       "  SP AD 1 ASIN SP AD 1 Price  \\\n",
       "0   B0CRQB4HBP       ₹46,490   \n",
       "\n",
       "                                             SP AD 2 SP AD 2 ASIN  \\\n",
       "0  Dell [Smartchoice] Core i3-1215U, 12th Gen (8G...   B0BQJ68HHC   \n",
       "\n",
       "  SP AD 2 Price                                            SP AD 3  \\\n",
       "0       ₹35,990  Acer Aspire Lite 13th Gen Intel Core i5-1334U ...   \n",
       "\n",
       "  SP AD 3 ASIN SP AD 3 Price  \\\n",
       "0   B0DPXBBPB7       ₹54,990   \n",
       "\n",
       "                                             SP AD 4 SP AD 4 ASIN  \\\n",
       "0  Dell 15 Thin & Light Laptop, Intel Core i7-125...   B0D83DC9VP   \n",
       "\n",
       "  SP AD 4 Price  \n",
       "0       ₹64,990  "
      ]
     },
     "execution_count": 167,
     "metadata": {},
     "output_type": "execute_result"
    }
   ],
   "source": [
    "data"
   ]
  },
  {
   "cell_type": "code",
   "execution_count": 168,
   "metadata": {},
   "outputs": [
    {
     "name": "stderr",
     "output_type": "stream",
     "text": [
      "C:\\Users\\user\\AppData\\Local\\Temp\\ipykernel_17140\\4241797501.py:1: DeprecationWarning: [Deprecated][in version 6.0.0]: Method signature's arguments 'range_name' and 'values' will change their order. We recommend using named arguments for minimal impact. In addition, the argument 'values' will be mandatory of type: 'List[List]'. (ex) Worksheet.update(values = [[]], range_name=) \n",
      "  worksheet.update([data.columns.values.tolist()] + data.values.tolist())\n"
     ]
    },
    {
     "data": {
      "text/plain": [
       "{'spreadsheetId': '1wKzdScL4OsW58cm9g2hBNpocfp6yXXVCV9WRyf1sOIc',\n",
       " 'updatedRange': 'Sheet1!A1:R2',\n",
       " 'updatedRows': 2,\n",
       " 'updatedColumns': 18,\n",
       " 'updatedCells': 36}"
      ]
     },
     "execution_count": 168,
     "metadata": {},
     "output_type": "execute_result"
    }
   ],
   "source": [
    "worksheet.update([data.columns.values.tolist()] + data.values.tolist())"
   ]
  },
  {
   "cell_type": "code",
   "execution_count": 72,
   "metadata": {},
   "outputs": [
    {
     "data": {
      "text/plain": [
       "[['Time',\n",
       "  'Search Key',\n",
       "  'SB Banner/Video AD',\n",
       "  'SBV Video AD',\n",
       "  'SBV Video AD Price',\n",
       "  'SP AD 1',\n",
       "  'SP AD 1 Price',\n",
       "  'SP AD 2',\n",
       "  'SP AD 2 Price',\n",
       "  'SP AD 3',\n",
       "  'SP AD 3 Price',\n",
       "  'SP AD 4 ',\n",
       "  'SP AD 4 Price'],\n",
       " ['2025-01-10 17:49:35.119899',\n",
       "  'facewash',\n",
       "  '\\n\\n\\n\\nScientific Solution For Acne-Free SkinScientific Solution For Acne-Free SkinShop Glenmark Consumer Care\\xa0Shop now\\xa0 Limited time deal₹361.00₹361.00\\xa0(₹361.00₹361.00 / 100 g)M.R.P:\\xa0₹425.00₹425.00\\xa0(15% off) Limited time deal₹487.00₹487.00\\xa0(₹811.67₹811.67 / 100 ml)M.R.P:\\xa0₹573.00₹573.00\\xa0(15% off)₹216.00₹216.00\\xa0(₹288.00₹288.00 / 100 g)Sponsored\\n\\n\\n\\n\\n\\n',\n",
       "  'Cos-IQ Exfoliating Face Wash FC-3 AHA Glycolic Acid & BHA Salicylic Acid 2% ww Face Cleanser For Revitalises Skint with Glow | Men & Women (30 Days Pack, 100ml)',\n",
       "  '₹242',\n",
       "  'Simple Kind To Skin Refreshing Face Wash 150 ml | 100% soap-free gentle cleanser for sensitive, dry & oily skin, for women & men',\n",
       "  '₹347',\n",
       "  'Neutrogena Ultra Gentle Creamy Cleanser | 14X Gentler Cleanser | All Skin Types Including Sensitive Skin | Face Wash for Sensitive Skin for Men & Women | With Barriercare Technology & 10% Glycerin | Paraben-Free',\n",
       "  '₹570',\n",
       "  'Neutrogena Ultra Gentle Foaming Cleanser | Face Wash for All Skin Types including Sensitive Skin | 6X Gentler Cleansing with Barriercare Technology for Men & Women | Cleanses Dirt and Oil | Hydrates & Protects Skin Barrie',\n",
       "  '₹570',\n",
       "  'Simple Water Boost Micellar Face Wash 150ml for normal to dry skin | 100% soap-free gentle cleanser for women & men',\n",
       "  '₹327'],\n",
       " ['2025-01-10 19:49:21.566886',\n",
       "  'facewash',\n",
       "  '\\n\\n\\n\\nScientific Solution For Acne-Free SkinScientific Solution For Acne-Free SkinShop Glenmark Consumer Care\\xa0Shop now\\xa0 Limited time deal₹361.00₹361.00\\xa0(₹361.00₹361.00 / 100 g)M.R.P:\\xa0₹425.00₹425.00\\xa0(15% off) Limited time deal₹487.00₹487.00\\xa0(₹811.67₹811.67 / 100 ml)M.R.P:\\xa0₹573.00₹573.00\\xa0(15% off)₹216.00₹216.00\\xa0(₹288.00₹288.00 / 100 g)Sponsored\\n\\n\\n\\n\\n\\n',\n",
       "  'Nat Habit Masoor Dal Face Wash, Fresh Daily Tikta For Men & Women, Skin Brightening, With Masoor & Moth Dal, Suitable For All Skin Types, Chemical & Sulphate Free - 100g',\n",
       "  '₹263',\n",
       "  'Neutrogena Ultra Gentle Creamy Cleanser | 14X Gentler Cleanser | All Skin Types Including Sensitive Skin | Face Wash for Sensitive Skin for Men & Women | With Barriercare Technology & 10% Glycerin | Paraben-Free',\n",
       "  '₹570',\n",
       "  'Neutrogena Ultra Gentle Foaming Cleanser | Face Wash for All Skin Types including Sensitive Skin | 6X Gentler Cleansing with Barriercare Technology for Men & Women | Cleanses Dirt and Oil | Hydrates & Protects Skin Barrie',\n",
       "  '₹570',\n",
       "  'DOT & KEY Vitamin C + E Super Bright Gel Face Wash For Glowing And Brightening Skin | All Skin Types|With Triple Vitamin C| Face Wash For Women & Men|100 Ml',\n",
       "  '₹224',\n",
       "  'CeraVe Hydrating Cleanser For Normal To Dry Skin (88ml) - Non-Foaming Face Wash with Hyaluronic Acid And Ceramides | Non-Comedogenic, Non-Irritating And Fragrance-Free Cleanser',\n",
       "  '₹315'],\n",
       " ['2025-01-10 22:20:35.461895',\n",
       "  'facewash',\n",
       "  '\\n\\n\\n\\nScientific Solution For Acne-Free SkinScientific Solution For Acne-Free SkinShop Glenmark Consumer Care\\xa0Shop now\\xa0 Limited time deal₹361₹361₹425₹425\\xa0(15% off) Limited time deal₹487₹487₹573₹573\\xa0(15% off)₹216₹216Sponsored\\n\\n\\n\\n\\n\\n',\n",
       "  'Cos-IQ Exfoliating Face Wash FC-3 AHA Glycolic Acid & BHA Salicylic Acid 2% ww Face Cleanser For Revitalises Skint with Glow | Men & Women (30 Days Pack, 100ml)',\n",
       "  '₹242',\n",
       "  'Neutrogena Ultra Gentle Creamy Cleanser | 14X Gentler Cleanser | All Skin Types Including Sensitive Skin | Face Wash for Sensitive Skin for Men & Women | With Barriercare Technology & 10% Glycerin | Paraben-Free',\n",
       "  '₹570',\n",
       "  'Neutrogena Ultra Gentle Foaming Cleanser | Face Wash for All Skin Types including Sensitive Skin | 6X Gentler Cleansing with Barriercare Technology for Men & Women | Cleanses Dirt and Oil | Hydrates & Protects Skin Barrie',\n",
       "  '₹570',\n",
       "  'DOT & KEY Vitamin C + E Super Bright Gel Face Wash For Glowing And Brightening Skin | All Skin Types|With Triple Vitamin C| Face Wash For Women & Men|100 Ml',\n",
       "  '₹211',\n",
       "  'CeraVe Hydrating Cleanser For Normal To Dry Skin (88ml) - Non-Foaming Face Wash with Hyaluronic Acid And Ceramides | Non-Comedogenic, Non-Irritating And Fragrance-Free Cleanser',\n",
       "  '₹315']]"
      ]
     },
     "execution_count": 72,
     "metadata": {},
     "output_type": "execute_result"
    }
   ],
   "source": [
    "[data.columns.values.tolist()] + data.values.tolist()"
   ]
  },
  {
   "cell_type": "code",
   "execution_count": null,
   "metadata": {},
   "outputs": [],
   "source": [
    "dataframe = pd.DataFrame(worksheet.get_all_records())"
   ]
  },
  {
   "cell_type": "code",
   "execution_count": null,
   "metadata": {},
   "outputs": [],
   "source": []
  },
  {
   "cell_type": "code",
   "execution_count": 96,
   "metadata": {},
   "outputs": [
    {
     "data": {
      "text/plain": [
       "[[Timestamp('2025-01-10 13:37:57.280356'),\n",
       "  'laptop',\n",
       "  '\\n\\n\\n\\nApple MacBook Air Laptop: Apple M1 chip, 13.3-inch/33.74 cm Retina Display, 8GB RAM, 256GB SSD Storage, Backlit Keyboard, FaceTime HD Camera, Touch ID. Works with iPhone/iPad; Space Grey4.64,911Sponsored\\n\\n\\n\\n\\n',\n",
       "  'Apple MacBook Air Laptop: Apple M1 chip, 13.3-inch/33.74 cm Retina Display, 8GB RAM, 256GB SSD Storage, Backlit Keyboard, FaceTime HD Camera, Touch ID. Works with iPhone/iPad; Space Grey',\n",
       "  '₹69,990',\n",
       "  'Dell [Smartchoice] Core i3-1215U, 12th Gen (8GB RAM/512GB SSD/FHD/Window 11/MS Office\\' 21/15\"(38 cm)/15 Month McAfee/Black/1.69kg Laptop',\n",
       "  '₹35,990',\n",
       "  'Dell Inspiron 3520 Laptop, 12th Gen Intel Core i5-1235U Processor, 8GB, 512GB SSD, 15.6\" (39.62Cms) FHD Display- 3 Side Narrow Border, Win 11 + MSO\\'21, 2 Tuned Speakers, Black, Thin & Light-1.65Kg',\n",
       "  '₹47,490',\n",
       "  'Dell Vostro 15 3520 Laptop - 15.6 inch (39.62cm) FHD Display, Intel Core i5-1235U, 8 GB RAM, 512 GB SSD, Titan Grey, 1.69Kg, Ideal for Business Users, Perfect for Productivity and Collaboration',\n",
       "  '₹48,490',\n",
       "  'Dell Inspiron 5440 Laptop, Intel Core i5-1334U Processor, 16GB, 512GB, 14\" (35.56cm) FHD Dispplay, Backlit Keyboard, Windows 11 + MSO\\'21, 15 Month McAfee Antivirus, Ice Blue, 1.54kg',\n",
       "  '₹71,999']]"
      ]
     },
     "execution_count": 96,
     "metadata": {},
     "output_type": "execute_result"
    }
   ],
   "source": [
    "data.values.tolist()"
   ]
  },
  {
   "cell_type": "code",
   "execution_count": 84,
   "metadata": {},
   "outputs": [
    {
     "data": {
      "text/plain": [
       "<Response [200]>"
      ]
     },
     "execution_count": 84,
     "metadata": {},
     "output_type": "execute_result"
    }
   ],
   "source": [
    "sheet2.share(\"vikasadhikari067@gmail.com\", perm_type='user', role='writer')"
   ]
  },
  {
   "cell_type": "code",
   "execution_count": 47,
   "metadata": {},
   "outputs": [
    {
     "name": "stdout",
     "output_type": "stream",
     "text": [
      "Dell [Smartchoice] Core i3-1215U, 12th Gen (8GB RAM/512GB SSD/FHD/Window 11/MS Office' 21/15\"(38 cm)/15 Month McAfee/Black/1.69kg Laptop ₹35,990\n",
      "Dell Inspiron 3520 Laptop, 12th Gen Intel Core i5-1235U Processor, 8GB, 512GB SSD, 15.6\" (39.62Cms) FHD Display- 3 Side Narrow Border, Win 11 + MSO'21, 2 Tuned Speakers, Black, Thin & Light-1.65Kg ₹47,490\n",
      "Dell Vostro 15 3520 Laptop - 15.6 inch (39.62cm) FHD Display, Intel Core i5-1235U, 8 GB RAM, 512 GB SSD, Titan Grey, 1.69Kg, Ideal for Business Users, Perfect for Productivity and Collaboration ₹48,490\n",
      "Dell Inspiron 5440 Laptop, Intel Core i5-1334U Processor, 16GB, 512GB, 14\" (35.56cm) FHD Dispplay, Backlit Keyboard, Windows 11 + MSO'21, 15 Month McAfee Antivirus, Ice Blue, 1.54kg ₹71,999\n",
      "Dell 15 Thin & Light Laptop, 13th Generation Intel Core i3-1305U Processor, 8GB DDR4 + 512GB SSD, 15.6\" (39.62cm) FHD 120Hz 250 nits Display, Windows 11 + MSO'21, 15 Month McAfee, Titan Grey, 1.69kg ₹38,990\n",
      "Dell Vostro 15 3530 Laptop – 15.6 inch FHD (35.56cm) Display, 13th Gen Intel Core i5-1334U Processor, 8 GB RAM, 512 GB SSD, Intel UHD Graphics, Carbon Black, 1.66Kg, Ideal for Tech Ninjas ₹49,790\n"
     ]
    }
   ],
   "source": [
    "for ad in ads:\n",
    "    print(ad.find('h2').text,\"₹\"+ ad.find('span',class_=\"a-price\").text.split(\"₹\")[1])"
   ]
  },
  {
   "cell_type": "code",
   "execution_count": null,
   "metadata": {},
   "outputs": [],
   "source": []
  }
 ],
 "metadata": {
  "kernelspec": {
   "display_name": "Python 3",
   "language": "python",
   "name": "python3"
  },
  "language_info": {
   "codemirror_mode": {
    "name": "ipython",
    "version": 3
   },
   "file_extension": ".py",
   "mimetype": "text/x-python",
   "name": "python",
   "nbconvert_exporter": "python",
   "pygments_lexer": "ipython3",
   "version": "3.10.4"
  }
 },
 "nbformat": 4,
 "nbformat_minor": 2
}
